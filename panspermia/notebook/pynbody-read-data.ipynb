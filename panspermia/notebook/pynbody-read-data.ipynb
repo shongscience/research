{
 "cells": [
  {
   "cell_type": "markdown",
   "metadata": {},
   "source": [
    "## Testing PyNbody"
   ]
  },
  {
   "cell_type": "code",
   "execution_count": 1,
   "metadata": {},
   "outputs": [],
   "source": [
    "# basic packages\n",
    "import sys\n",
    "import numpy as np\n",
    "import pandas as pd\n",
    "import matplotlib.pyplot as plt\n",
    "from scipy.spatial import cKDTree\n",
    "#import databricks.koalas as ks\n",
    "\n",
    "# the default `sequence` option merges all partitions into a single catastrophic one : what?\n",
    "#ks.set_option('compute.default_index_type', 'distributed') \n",
    "\n",
    "# plot settings\n",
    "#plt.rc('text', usetex=True )\n",
    "#plt.rc('font', family='Times New Roman', weight='normal', size=14)\n",
    "#plt.rcParams['mathtext.fontset'] = 'stix'\n",
    "\n",
    "plt.rc('font', family='serif') \n",
    "plt.rc('font', serif='Times New Roman') \n",
    "plt.rcParams['mathtext.fontset'] = 'cm'  \n",
    "plt.rcParams.update({'font.size': 16})"
   ]
  },
  {
   "cell_type": "code",
   "execution_count": 2,
   "metadata": {},
   "outputs": [
    {
     "name": "stdout",
     "output_type": "stream",
     "text": [
      "/home/shong/work/panspermia/notebook\n"
     ]
    }
   ],
   "source": [
    "!pwd"
   ]
  },
  {
   "cell_type": "code",
   "execution_count": 3,
   "metadata": {},
   "outputs": [
    {
     "name": "stdout",
     "output_type": "stream",
     "text": [
      "total 32\n",
      "drwxrwxr-x 3 shong shong  4096 10월 18 15:12 ./\n",
      "drwxrwxr-x 5 shong shong  4096 10월 17 15:21 ../\n",
      "drwxrwxr-x 2 shong shong  4096 10월 17 15:44 .ipynb_checkpoints/\n",
      "-rw-rw-r-- 1 shong shong 16489 10월 18 15:12 pynbody-read-data.ipynb\n"
     ]
    }
   ],
   "source": [
    "!ls -alF "
   ]
  },
  {
   "cell_type": "markdown",
   "metadata": {},
   "source": [
    "### Read the snapshot file"
   ]
  },
  {
   "cell_type": "code",
   "execution_count": 4,
   "metadata": {},
   "outputs": [],
   "source": [
    "import pynbody"
   ]
  },
  {
   "cell_type": "code",
   "execution_count": 5,
   "metadata": {},
   "outputs": [
    {
     "name": "stdout",
     "output_type": "stream",
     "text": [
      "total 7500724\n",
      "drwxrwxr-x 2 shong shong       4096 10월 18 15:11 ./\n",
      "drwxrwxr-x 5 shong shong       4096 10월 17 15:21 ../\n",
      "-rw-r--r-- 1 shong shong      16384 10월 18 11:32 .h277.cosmo50cmb.3072g14HMbwK.00512.param.swp\n",
      "-rw-rw-r-- 1 shong shong   16711680  9월 29 15:33 h277.3072g14HMbwK.3.mpg\n",
      "-rw-rw-r-- 1 shong shong 1411600636  9월 29 15:39 h277.cosmo50cmb.3072g14HMbwK.00512\n",
      "-rw-rw-r-- 1 shong shong      30280  9월 29 15:37 h277.cosmo50cmb.3072g14HMbwK.00512.00.log\n",
      "-rw-rw-r-- 1 shong shong      29652 10월 17 15:50 h277.cosmo50cmb.3072g14HMbwK.00512.0000.z0.000.AHF_fpos\n",
      "-rw-rw-r-- 1 shong shong    2877901  9월 29 15:30 h277.cosmo50cmb.3072g14HMbwK.00512.0000.z0.000.AHF_halos\n",
      "-rw-rw-r-- 1 shong shong  207516366  9월 29 15:32 h277.cosmo50cmb.3072g14HMbwK.00512.0000.z0.000.AHF_particles\n",
      "-rw-rw-r-- 1 shong shong    9634825  9월 29 15:32 h277.cosmo50cmb.3072g14HMbwK.00512.0000.z0.000.AHF_profiles\n",
      "-rw-rw-r-- 1 shong shong   89017954  9월 29 15:32 h277.cosmo50cmb.3072g14HMbwK.00512.ESNRate\n",
      "-rw-rw-r-- 1 shong shong  406240061  9월 29 15:33 h277.cosmo50cmb.3072g14HMbwK.00512.FeMassFrac\n",
      "-rw-rw-r-- 1 shong shong  383460023  9월 29 15:39 h277.cosmo50cmb.3072g14HMbwK.00512.H2\n",
      "-rw-rw-r-- 1 shong shong  444275299  9월 29 15:34 h277.cosmo50cmb.3072g14HMbwK.00512.HI\n",
      "-rw-rw-r-- 1 shong shong  477640715  9월 29 15:37 h277.cosmo50cmb.3072g14HMbwK.00512.HeI\n",
      "-rw-rw-r-- 1 shong shong  396682413  9월 29 15:39 h277.cosmo50cmb.3072g14HMbwK.00512.HeII\n",
      "-rw-rw-r-- 1 shong shong  398263467  9월 29 15:37 h277.cosmo50cmb.3072g14HMbwK.00512.OxMassFrac\n",
      "-rw-rw-r-- 1 shong shong  208097539  9월 29 15:38 h277.cosmo50cmb.3072g14HMbwK.00512.coolontime\n",
      "-rw-rw-r-- 1 shong shong  116547786  9월 29 15:31 h277.cosmo50cmb.3072g14HMbwK.00512.igasorder\n",
      "-rw-rw-r-- 1 shong shong  294229360  9월 29 15:34 h277.cosmo50cmb.3072g14HMbwK.00512.iord\n",
      "-rw-rw-r-- 1 shong shong  374746834  9월 29 15:39 h277.cosmo50cmb.3072g14HMbwK.00512.lw\n",
      "-rw-rw-r-- 1 shong shong       5674 10월 18 11:27 h277.cosmo50cmb.3072g14HMbwK.00512.param\n",
      "-rw-rw-r-- 1 shong shong       5674  9월 29 15:38 h277.cosmo50cmb.3072g14HMbwK.00512.parameter\n",
      "-rw-rw-r-- 1 shong shong     314140  9월 29 15:37 h277.cosmo50cmb.3072g14HMbwK.log\n",
      "-rw-rw-r-- 1 shong shong 2332601588  9월 29 15:40 h277.g14.00512.tar.gz\n",
      "-rw-rw-r-- 1 shong shong  110092294 10월 18 15:11 starpos.parquet.snappy\n"
     ]
    }
   ],
   "source": [
    "!ls -alF /home/shong/work/panspermia/data/"
   ]
  },
  {
   "cell_type": "code",
   "execution_count": 6,
   "metadata": {},
   "outputs": [
    {
     "name": "stderr",
     "output_type": "stream",
     "text": [
      "/home/shong/anaconda3/lib/python3.7/site-packages/pynbody/snapshot/tipsy.py:125: RuntimeWarning: No readable param file in the run directory or parent directory: using defaults.\n",
      "  \"No readable param file in the run directory or parent directory: using defaults.\", RuntimeWarning)\n"
     ]
    }
   ],
   "source": [
    "s = pynbody.load('/home/shong/work/panspermia/data/h277.cosmo50cmb.3072g14HMbwK.00512',\\\n",
    "                paramname='/home/shong/work/panspermia/data/h277.cosmo50cmb.3072g14HMbwK.00512.param')"
   ]
  },
  {
   "cell_type": "code",
   "execution_count": 7,
   "metadata": {},
   "outputs": [
    {
     "data": {
      "text/plain": [
       "64"
      ]
     },
     "execution_count": 7,
     "metadata": {},
     "output_type": "execute_result"
    }
   ],
   "source": [
    "sys.getsizeof(s)"
   ]
  },
  {
   "cell_type": "code",
   "execution_count": 8,
   "metadata": {},
   "outputs": [
    {
     "data": {
      "text/plain": [
       "[]"
      ]
     },
     "execution_count": 8,
     "metadata": {},
     "output_type": "execute_result"
    }
   ],
   "source": [
    "s.keys()"
   ]
  },
  {
   "cell_type": "code",
   "execution_count": 9,
   "metadata": {},
   "outputs": [
    {
     "data": {
      "text/plain": [
       "['pos',\n",
       " 'lw',\n",
       " 'ESNRate',\n",
       " 'HeI',\n",
       " 'iord',\n",
       " 'eps',\n",
       " 'HeII',\n",
       " 'phi',\n",
       " 'H2',\n",
       " 'mass',\n",
       " 'vel',\n",
       " 'igasorder',\n",
       " 'HI',\n",
       " 'FeMassFrac',\n",
       " 'coolontime',\n",
       " 'OxMassFrac']"
      ]
     },
     "execution_count": 9,
     "metadata": {},
     "output_type": "execute_result"
    }
   ],
   "source": [
    "s.loadable_keys()"
   ]
  },
  {
   "cell_type": "code",
   "execution_count": 10,
   "metadata": {},
   "outputs": [
    {
     "data": {
      "text/plain": [
       "{'time': Unit(\"1.00e-05 kpc**3/2 G**-1/2 Msol**-1/2\")}"
      ]
     },
     "execution_count": 10,
     "metadata": {},
     "output_type": "execute_result"
    }
   ],
   "source": [
    "s.properties"
   ]
  },
  {
   "cell_type": "code",
   "execution_count": 11,
   "metadata": {},
   "outputs": [
    {
     "data": {
      "text/plain": [
       "[<Family gas>, <Family dm>, <Family star>]"
      ]
     },
     "execution_count": 11,
     "metadata": {},
     "output_type": "execute_result"
    }
   ],
   "source": [
    "s.families()"
   ]
  },
  {
   "cell_type": "code",
   "execution_count": 12,
   "metadata": {},
   "outputs": [
    {
     "data": {
      "text/plain": [
       "['iord',\n",
       " 'tform',\n",
       " 'eps',\n",
       " 'H2',\n",
       " 'FeMassFrac',\n",
       " 'coolontime',\n",
       " 'HeI',\n",
       " 'HeII',\n",
       " 'pos',\n",
       " 'lw',\n",
       " 'ESNRate',\n",
       " 'metals',\n",
       " 'phi',\n",
       " 'mass',\n",
       " 'vel',\n",
       " 'igasorder',\n",
       " 'HI',\n",
       " 'OxMassFrac']"
      ]
     },
     "execution_count": 12,
     "metadata": {},
     "output_type": "execute_result"
    }
   ],
   "source": [
    "s.star.loadable_keys()"
   ]
  },
  {
   "cell_type": "code",
   "execution_count": 13,
   "metadata": {},
   "outputs": [
    {
     "data": {
      "text/plain": [
       "8115217"
      ]
     },
     "execution_count": 13,
     "metadata": {},
     "output_type": "execute_result"
    }
   ],
   "source": [
    "len(s.star)"
   ]
  },
  {
   "cell_type": "code",
   "execution_count": 14,
   "metadata": {},
   "outputs": [
    {
     "data": {
      "text/plain": [
       "SimArray([[0.09565262, 0.09649316, 0.02786732],\n",
       "          [0.10488313, 0.10036243, 0.02527858],\n",
       "          [0.1144229 , 0.11139609, 0.02712537]], 'kpc')"
      ]
     },
     "execution_count": 14,
     "metadata": {},
     "output_type": "execute_result"
    }
   ],
   "source": [
    "s.star['pos'][:3]"
   ]
  },
  {
   "cell_type": "code",
   "execution_count": 15,
   "metadata": {},
   "outputs": [],
   "source": [
    "s.physical_units()"
   ]
  },
  {
   "cell_type": "code",
   "execution_count": 16,
   "metadata": {},
   "outputs": [
    {
     "data": {
      "text/plain": [
       "SimArray([[0.09565262, 0.09649316, 0.02786732],\n",
       "          [0.10488313, 0.10036243, 0.02527858],\n",
       "          [0.1144229 , 0.11139609, 0.02712537]], 'kpc')"
      ]
     },
     "execution_count": 16,
     "metadata": {},
     "output_type": "execute_result"
    }
   ],
   "source": [
    "s.star['pos'][:3]"
   ]
  },
  {
   "cell_type": "code",
   "execution_count": 17,
   "metadata": {},
   "outputs": [
    {
     "data": {
      "text/plain": [
       "SimArray([0.00307807, 0.00307807, 0.00307807, 0.00307807, 0.00307807,\n",
       "          0.00307807, 0.00307807, 0.00307807, 0.00307807, 0.00307807], 'Msol')"
      ]
     },
     "execution_count": 17,
     "metadata": {},
     "output_type": "execute_result"
    }
   ],
   "source": [
    "s.star['mass'][:10]"
   ]
  },
  {
   "cell_type": "code",
   "execution_count": 18,
   "metadata": {},
   "outputs": [
    {
     "data": {
      "text/plain": [
       "0.09565262496471405"
      ]
     },
     "execution_count": 18,
     "metadata": {},
     "output_type": "execute_result"
    }
   ],
   "source": [
    "s.star['pos'][0][0]"
   ]
  },
  {
   "cell_type": "code",
   "execution_count": 19,
   "metadata": {},
   "outputs": [
    {
     "data": {
      "text/plain": [
       "array([0.10488313, 0.10036243, 0.02527858])"
      ]
     },
     "execution_count": 19,
     "metadata": {},
     "output_type": "execute_result"
    }
   ],
   "source": [
    "s.star['pos'][0:6].view(type=np.ndarray)[1]"
   ]
  },
  {
   "cell_type": "code",
   "execution_count": 20,
   "metadata": {},
   "outputs": [
    {
     "data": {
      "text/plain": [
       "array([0.09565262, 0.10488313, 0.1144229 , 0.07517252, 0.09367973,\n",
       "       0.07872621])"
      ]
     },
     "execution_count": 20,
     "metadata": {},
     "output_type": "execute_result"
    }
   ],
   "source": [
    "s.star['pos'].view(type=np.ndarray)[0:6].transpose()[0]"
   ]
  },
  {
   "cell_type": "code",
   "execution_count": 21,
   "metadata": {},
   "outputs": [],
   "source": [
    "starpos = s.star['pos'].view(type=np.ndarray).transpose()"
   ]
  },
  {
   "cell_type": "code",
   "execution_count": 22,
   "metadata": {},
   "outputs": [
    {
     "data": {
      "text/plain": [
       "3"
      ]
     },
     "execution_count": 22,
     "metadata": {},
     "output_type": "execute_result"
    }
   ],
   "source": [
    "len(starpos)"
   ]
  },
  {
   "cell_type": "code",
   "execution_count": 23,
   "metadata": {},
   "outputs": [
    {
     "data": {
      "text/plain": [
       "8115217"
      ]
     },
     "execution_count": 23,
     "metadata": {},
     "output_type": "execute_result"
    }
   ],
   "source": [
    "len(starpos[0])"
   ]
  },
  {
   "cell_type": "markdown",
   "metadata": {},
   "source": [
    "### Pandas DataFrame"
   ]
  },
  {
   "cell_type": "code",
   "execution_count": 24,
   "metadata": {},
   "outputs": [],
   "source": [
    "stardf = pd.DataFrame(s.star['pos'].view(type=np.ndarray), columns = ['px','py','pz'])"
   ]
  },
  {
   "cell_type": "code",
   "execution_count": 25,
   "metadata": {},
   "outputs": [
    {
     "data": {
      "text/html": [
       "<div>\n",
       "<style scoped>\n",
       "    .dataframe tbody tr th:only-of-type {\n",
       "        vertical-align: middle;\n",
       "    }\n",
       "\n",
       "    .dataframe tbody tr th {\n",
       "        vertical-align: top;\n",
       "    }\n",
       "\n",
       "    .dataframe thead th {\n",
       "        text-align: right;\n",
       "    }\n",
       "</style>\n",
       "<table border=\"1\" class=\"dataframe\">\n",
       "  <thead>\n",
       "    <tr style=\"text-align: right;\">\n",
       "      <th></th>\n",
       "      <th>px</th>\n",
       "      <th>py</th>\n",
       "      <th>pz</th>\n",
       "    </tr>\n",
       "  </thead>\n",
       "  <tbody>\n",
       "    <tr>\n",
       "      <td>0</td>\n",
       "      <td>0.095653</td>\n",
       "      <td>0.096493</td>\n",
       "      <td>0.027867</td>\n",
       "    </tr>\n",
       "    <tr>\n",
       "      <td>1</td>\n",
       "      <td>0.104883</td>\n",
       "      <td>0.100362</td>\n",
       "      <td>0.025279</td>\n",
       "    </tr>\n",
       "    <tr>\n",
       "      <td>2</td>\n",
       "      <td>0.114423</td>\n",
       "      <td>0.111396</td>\n",
       "      <td>0.027125</td>\n",
       "    </tr>\n",
       "  </tbody>\n",
       "</table>\n",
       "</div>"
      ],
      "text/plain": [
       "         px        py        pz\n",
       "0  0.095653  0.096493  0.027867\n",
       "1  0.104883  0.100362  0.025279\n",
       "2  0.114423  0.111396  0.027125"
      ]
     },
     "execution_count": 25,
     "metadata": {},
     "output_type": "execute_result"
    }
   ],
   "source": [
    "stardf.head(3)"
   ]
  },
  {
   "cell_type": "markdown",
   "metadata": {},
   "source": [
    "### Save it to a Parquet"
   ]
  },
  {
   "cell_type": "code",
   "execution_count": 26,
   "metadata": {},
   "outputs": [],
   "source": [
    "import pyarrow as pa\n",
    "import pyarrow.parquet as pq"
   ]
  },
  {
   "cell_type": "code",
   "execution_count": 27,
   "metadata": {},
   "outputs": [
    {
     "name": "stdout",
     "output_type": "stream",
     "text": [
      "/home/shong/work/panspermia/notebook\n"
     ]
    }
   ],
   "source": [
    "!pwd"
   ]
  },
  {
   "cell_type": "code",
   "execution_count": 29,
   "metadata": {},
   "outputs": [],
   "source": [
    "pq.write_table(pa.Table.from_pandas(stardf), \\\n",
    "               '/home/shong/work/panspermia/data/starpos.parquet.snappy', compression='snappy')"
   ]
  },
  {
   "cell_type": "code",
   "execution_count": 30,
   "metadata": {},
   "outputs": [
    {
     "name": "stdout",
     "output_type": "stream",
     "text": [
      "h277.3072g14HMbwK.3.mpg\n",
      "h277.cosmo50cmb.3072g14HMbwK.00512\n",
      "h277.cosmo50cmb.3072g14HMbwK.00512.00.log\n",
      "h277.cosmo50cmb.3072g14HMbwK.00512.0000.z0.000.AHF_fpos\n",
      "h277.cosmo50cmb.3072g14HMbwK.00512.0000.z0.000.AHF_halos\n",
      "h277.cosmo50cmb.3072g14HMbwK.00512.0000.z0.000.AHF_particles\n",
      "h277.cosmo50cmb.3072g14HMbwK.00512.0000.z0.000.AHF_profiles\n",
      "h277.cosmo50cmb.3072g14HMbwK.00512.ESNRate\n",
      "h277.cosmo50cmb.3072g14HMbwK.00512.FeMassFrac\n",
      "h277.cosmo50cmb.3072g14HMbwK.00512.H2\n",
      "h277.cosmo50cmb.3072g14HMbwK.00512.HI\n",
      "h277.cosmo50cmb.3072g14HMbwK.00512.HeI\n",
      "h277.cosmo50cmb.3072g14HMbwK.00512.HeII\n",
      "h277.cosmo50cmb.3072g14HMbwK.00512.OxMassFrac\n",
      "h277.cosmo50cmb.3072g14HMbwK.00512.coolontime\n",
      "h277.cosmo50cmb.3072g14HMbwK.00512.igasorder\n",
      "h277.cosmo50cmb.3072g14HMbwK.00512.iord\n",
      "h277.cosmo50cmb.3072g14HMbwK.00512.lw\n",
      "h277.cosmo50cmb.3072g14HMbwK.00512.param\n",
      "h277.cosmo50cmb.3072g14HMbwK.00512.parameter\n",
      "h277.cosmo50cmb.3072g14HMbwK.log\n",
      "h277.g14.00512.tar.gz\n",
      "starpos.parquet.snappy\n"
     ]
    }
   ],
   "source": [
    "!ls ../data"
   ]
  },
  {
   "cell_type": "code",
   "execution_count": null,
   "metadata": {},
   "outputs": [],
   "source": []
  }
 ],
 "metadata": {
  "kernelspec": {
   "display_name": "Python 3",
   "language": "python",
   "name": "python3"
  },
  "language_info": {
   "codemirror_mode": {
    "name": "ipython",
    "version": 3
   },
   "file_extension": ".py",
   "mimetype": "text/x-python",
   "name": "python",
   "nbconvert_exporter": "python",
   "pygments_lexer": "ipython3",
   "version": "3.7.4"
  }
 },
 "nbformat": 4,
 "nbformat_minor": 4
}
